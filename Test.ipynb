{
 "cells": [
  {
   "cell_type": "code",
   "execution_count": null,
   "id": "4d1c20f5-d3b7-4395-82ac-635f4b94a957",
   "metadata": {},
   "outputs": [],
   "source": [
    "# Tester file; run any experiments / test commits you want here so as to avoid messing up the main dev file."
   ]
  },
  {
   "cell_type": "markdown",
   "id": "70139ae8-4868-4e9e-9aa4-754399c1ae01",
   "metadata": {},
   "source": [
    "Storing all the code for cleaning up the country labels for the datasets here."
   ]
  },
  {
   "cell_type": "code",
   "execution_count": null,
   "id": "efeb947d-1197-4759-97ea-cb4cb5bd47aa",
   "metadata": {},
   "outputs": [],
   "source": [
    "temp_countries = temperature_df['Country'].unique()\n",
    "pol_countries = political_regime_df['Entity'].unique()\n",
    "pop_countries = population_df['Country Name'].unique()\n",
    "GDP_countries = GDP_df['Country Name'].unique()\n",
    "climate_countries = climate_policy_df['country'].unique()\n",
    "\n",
    "# Printing the unique country values for each dataset\n",
    "print(\"Unique country values in temperature dataset:\")\n",
    "print(temp_countries)\n",
    "print(\"\\nUnique country values in political regime dataset:\")\n",
    "print(pol_countries)\n",
    "print(\"\\nUnique country values in population dataset:\")\n",
    "print(pop_countries)\n",
    "print(\"\\nUnique country values in GDP dataset:\")\n",
    "print(GDP_countries)\n",
    "print(\"\\nUnique country values in climate policy dataset:\")\n",
    "print(climate_countries)\n",
    "\n",
    "# # Print the lengths of each list\n",
    "# print(\"Number of unique countries in temperature data:\", len(temp_countries))\n",
    "# print(\"Number of unique countries in political regime data:\", len(pol_countries))\n",
    "# print(\"Number of unique countries in population data:\", len(pop_countries))\n",
    "# print(\"Number of unique countries in GDP data:\", len(GDP_countries))\n",
    "# print(\"Number of unique countries in climate policy data:\", len(climate_countries))\n",
    "\n",
    "UN_recognised_countries = [\n",
    "    \"Afghanistan\", \"Albania\", \"Algeria\", \"Andorra\", \"Angola\", \"Antigua and Barbuda\",\n",
    "    \"Argentina\", \"Armenia\", \"Australia\", \"Austria\", \"Azerbaijan\", \"Bahamas\",\n",
    "    \"Bahrain\", \"Bangladesh\", \"Barbados\", \"Belarus\", \"Belgium\", \"Belize\",\n",
    "    \"Benin\", \"Bhutan\", \"Bolivia\", \"Bosnia and Herzegovina\", \"Botswana\", \"Brazil\",\n",
    "    \"Brunei\", \"Bulgaria\", \"Burkina Faso\", \"Burundi\", \"Cabo Verde\", \"Cambodia\",\n",
    "    \"Cameroon\", \"Canada\", \"Central African Republic\", \"Chad\", \"Chile\", \"China\",\n",
    "    \"Colombia\", \"Comoros\", \"Congo\", \"Congo, Democratic Republic of the\", \"Costa Rica\",\n",
    "    \"Croatia\", \"Cuba\", \"Cyprus\", \"Czech Republic\", \"Denmark\", \"Djibouti\", \"Dominica\",\n",
    "    \"Dominican Republic\", \"Ecuador\", \"Egypt\", \"El Salvador\", \"Equatorial Guinea\",\n",
    "    \"Eritrea\", \"Estonia\", \"Eswatini\", \"Ethiopia\", \"Fiji\", \"Finland\", \"France\",\n",
    "    \"Gabon\", \"Gambia\", \"Georgia\", \"Germany\", \"Ghana\", \"Greece\", \"Grenada\",\n",
    "    \"Guatemala\", \"Guinea\", \"Guinea-Bissau\", \"Guyana\", \"Haiti\", \"Honduras\",\n",
    "    \"Hungary\", \"Iceland\", \"India\", \"Indonesia\", \"Iran\", \"Iraq\", \"Ireland\",\n",
    "    \"Israel\", \"Italy\", \"Jamaica\", \"Japan\", \"Jordan\", \"Kazakhstan\", \"Kenya\",\n",
    "    \"Kiribati\", \"North Korea\", \"South Korea\", \"Kuwait\", \"Kyrgyzstan\", \"Laos\",\n",
    "    \"Latvia\", \"Lebanon\", \"Lesotho\", \"Liberia\", \"Libya\", \"Liechtenstein\", \"Lithuania\",\n",
    "    \"Luxembourg\", \"Madagascar\", \"Malawi\", \"Malaysia\", \"Maldives\", \"Mali\",\n",
    "    \"Malta\", \"Marshall Islands\", \"Mauritania\", \"Mauritius\", \"Mexico\", \"Micronesia\",\n",
    "    \"Moldova\", \"Monaco\", \"Mongolia\", \"Montenegro\", \"Morocco\", \"Mozambique\",\n",
    "    \"Myanmar\", \"Namibia\", \"Nauru\", \"Nepal\", \"Netherlands\", \"New Zealand\",\n",
    "    \"Nicaragua\", \"Niger\", \"Nigeria\", \"North Macedonia\", \"Norway\", \"Oman\",\n",
    "    \"Pakistan\", \"Palau\", \"Palestine\", \"Panama\", \"Papua New Guinea\", \"Paraguay\",\n",
    "    \"Peru\", \"Philippines\", \"Poland\", \"Portugal\", \"Qatar\", \"Romania\", \"Russia\",\n",
    "    \"Rwanda\", \"Saint Kitts and Nevis\", \"Saint Lucia\", \"Saint Vincent and the Grenadines\",\n",
    "    \"Samoa\", \"San Marino\", \"Sao Tome and Principe\", \"Saudi Arabia\", \"Senegal\",\n",
    "    \"Serbia\", \"Seychelles\", \"Sierra Leone\", \"Singapore\", \"Slovakia\", \"Slovenia\",\n",
    "    \"Solomon Islands\", \"Somalia\", \"South Africa\", \"South Sudan\", \"Spain\",\n",
    "    \"Sri Lanka\", \"Sudan\", \"Suriname\", \"Sweden\", \"Switzerland\", \"Syria\", \"Taiwan\",\n",
    "    \"Tajikistan\", \"Tanzania\", \"Thailand\", \"Timor-Leste\", \"Togo\", \"Tonga\",\n",
    "    \"Trinidad and Tobago\", \"Tunisia\", \"Turkey\", \"Turkmenistan\", \"Tuvalu\",\n",
    "    \"Uganda\", \"Ukraine\", \"United Arab Emirates\", \"United Kingdom\", \"United States\",\n",
    "    \"Uruguay\", \"Uzbekistan\", \"Vanuatu\", \"Vatican City\", \"Venezuela\", \"Vietnam\",\n",
    "    \"Yemen\", \"Zambia\", \"Zimbabwe\"]\n",
    "\n",
    "# print(\"Countries dropped from the temperature dataset\")"
   ]
  },
  {
   "cell_type": "markdown",
   "id": "968d4c2d-76b0-44c8-942d-6c614134e28b",
   "metadata": {},
   "source": [
    "Oops! As per the UN, there are only 195 countries in the world currently; but we have 236 countries here. So, there's something wrong with the data. Let's inspect it:"
   ]
  },
  {
   "cell_type": "code",
   "execution_count": null,
   "id": "2adb8395-8383-4983-aaaf-280c170fff4b",
   "metadata": {},
   "outputs": [],
   "source": [
    "countries_in_original_df = temperature_df['Country'].unique()\n",
    "print(countries_in_original_df)"
   ]
  },
  {
   "cell_type": "markdown",
   "id": "04185464-9b82-4554-ba9f-f60a7e262712",
   "metadata": {},
   "source": [
    "Looks like even though the data is in the `Country` column, it doesn't contain just data about countries. It also seems to contain data about continents like Europe and non-countries like \"Cayman Islands\" (which is actually a british overseas territory). To ensure that our data is relevant, let's restrict the dataframe to just the UN recognised countries."
   ]
  },
  {
   "cell_type": "code",
   "execution_count": null,
   "id": "f4aaf795-9255-458c-82d2-962e149e0718",
   "metadata": {},
   "outputs": [],
   "source": [
    "temperature_df = temperature_df[temperature_df['Country'].isin(UN_recognised_countries)].reset_index(drop=True)"
   ]
  },
  {
   "cell_type": "markdown",
   "id": "eac5ff38-bc25-4bc2-bfb2-ed9785b6fa9c",
   "metadata": {},
   "source": [
    "Our dataset doesn't contain data for all these countries. The following were missing:"
   ]
  },
  {
   "cell_type": "code",
   "execution_count": null,
   "id": "2e9a3897-bc1d-4c9e-92a7-9f51793ba26a",
   "metadata": {},
   "outputs": [],
   "source": [
    "removed_countries = [country for country in countries_in_original_df if country not in UN_recognised_countries]\n",
    "print(removed_countries)\n",
    "available_countries = temperature_df['Country'].unique()\n",
    "print([country for country in UN_recognised_countries if country not in available_countries])"
   ]
  }
 ],
 "metadata": {
  "kernelspec": {
   "display_name": "Python 3 (ipykernel)",
   "language": "python",
   "name": "python3"
  },
  "language_info": {
   "codemirror_mode": {
    "name": "ipython",
    "version": 3
   },
   "file_extension": ".py",
   "mimetype": "text/x-python",
   "name": "python",
   "nbconvert_exporter": "python",
   "pygments_lexer": "ipython3",
   "version": "3.11.8"
  }
 },
 "nbformat": 4,
 "nbformat_minor": 5
}
